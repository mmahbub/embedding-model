{
 "cells": [
  {
   "cell_type": "markdown",
   "id": "5a02674a-ca19-4e93-9259-eebe627ef4ba",
   "metadata": {},
   "source": [
    "# SQuaD QA with LLM RAG"
   ]
  },
  {
   "cell_type": "markdown",
   "id": "b5637768-1e14-442f-931c-47721a63d7cb",
   "metadata": {},
   "source": [
    "## Imports & Inits"
   ]
  },
  {
   "cell_type": "code",
   "execution_count": 1,
   "id": "8780f819-76db-4bac-89bd-f72ede1b655b",
   "metadata": {
    "tags": []
   },
   "outputs": [],
   "source": [
    "%load_ext autoreload\n",
    "%autoreload 2\n",
    "%config IPCompleter.greedy=True\n",
    "\n",
    "import sys, os, time, warnings, pdb, pickle, random, math, re, json\n",
    "warnings.filterwarnings('ignore')\n",
    "sys.path.insert(0, '../scripts')\n",
    "\n",
    "from pathlib import Path\n",
    "import numpy as np\n",
    "import pandas as pd\n",
    "import matplotlib.pyplot as plt\n",
    "import seaborn as sns\n",
    "\n",
    "from datasets import load_dataset\n",
    "\n",
    "np.set_printoptions(precision=4)\n",
    "sns.set_style(\"darkgrid\")\n",
    "%matplotlib inline"
   ]
  },
  {
   "cell_type": "code",
   "execution_count": 2,
   "id": "093245f5-fa9a-45f9-9a00-346f371f0d98",
   "metadata": {
    "tags": []
   },
   "outputs": [],
   "source": [
    "import torch\n",
    "import chromadb\n",
    "\n",
    "from llama_index.llms.huggingface import HuggingFaceLLM\n",
    "from llama_index.embeddings.huggingface import HuggingFaceEmbedding \n",
    "\n",
    "from llama_index.core import PromptTemplate\n",
    "from llama_index.core.memory import ChatMemoryBuffer\n",
    "from llama_index.vector_stores.chroma import ChromaVectorStore\n",
    "from llama_index.core import StorageContext\n",
    "from llama_index.core import VectorStoreIndex, SimpleDirectoryReader, ServiceContext\n",
    "\n",
    "from auto_gptq import exllama_set_max_input_length"
   ]
  },
  {
   "cell_type": "code",
   "execution_count": 3,
   "id": "aba9f9b0-f661-4069-ba58-6e3adac13dd4",
   "metadata": {
    "tags": []
   },
   "outputs": [],
   "source": [
    "SYSTEM_PROMPT = \"\"\"You are an AI assistant designed to answer queries about information contained in a set of documents. Here are guidelines you must adhere to:\n",
    "- Provide the most shortest answer possible while maintaining accuracy\n",
    "- Do not include pleasantries or filler phrases\n",
    "- If you are not sure of anything, indicate that in your response.\n",
    "\"\"\"\n",
    "query_wrapper_prompt = PromptTemplate(\"[INST]<<SYS>>\\n\" + SYSTEM_PROMPT + \"<</SYS>>\\n\\n{query_str}[/INST]\")"
   ]
  },
  {
   "cell_type": "code",
   "execution_count": 4,
   "id": "649bdd2c-a9f0-4c53-8a96-f3c3e5a9c452",
   "metadata": {
    "tags": []
   },
   "outputs": [],
   "source": [
    "project_dir = Path('/mnt/scratch')\n",
    "proc_data_dir = project_dir/'llmqa/data/'\n",
    "# os.mkdir(proc_data_dir)\n",
    "db_dir = project_dir/'llmqa/db_dir'\n",
    "db_dir.mkdir(parents=True, exist_ok=True)"
   ]
  },
  {
   "cell_type": "code",
   "execution_count": 5,
   "id": "b4439bba-9ea9-48b2-b6e3-0cfaeb779cbc",
   "metadata": {
    "tags": []
   },
   "outputs": [],
   "source": [
    "db = chromadb.PersistentClient(path=db_dir.as_posix())"
   ]
  },
  {
   "cell_type": "code",
   "execution_count": 6,
   "id": "8a4a68bb-c4bf-41a0-9ce8-8a865d8dcdf8",
   "metadata": {
    "tags": []
   },
   "outputs": [],
   "source": [
    "chroma_collection = db.get_or_create_collection('mimiciv')\n",
    "vector_store = ChromaVectorStore(chroma_collection=chroma_collection)"
   ]
  },
  {
   "cell_type": "code",
   "execution_count": 7,
   "id": "337db7cc-081c-4fdc-a691-2382afaaa67a",
   "metadata": {
    "tags": []
   },
   "outputs": [],
   "source": [
    "model_name_or_path = 'mistralai/Mistral-7B-Instruct-v0.1'\n",
    "# model_name_or_path = 'TheBloke/Mistral-7B-Instruct-v0.1-GPTQ'"
   ]
  },
  {
   "cell_type": "code",
   "execution_count": 8,
   "id": "73bde87e-3ee1-4b86-baf4-9d7f7760e1c1",
   "metadata": {
    "tags": []
   },
   "outputs": [
    {
     "data": {
      "application/vnd.jupyter.widget-view+json": {
       "model_id": "efb763d9fcad436b907470b45b092b2e",
       "version_major": 2,
       "version_minor": 0
      },
      "text/plain": [
       "Downloading shards:   0%|          | 0/2 [00:00<?, ?it/s]"
      ]
     },
     "metadata": {},
     "output_type": "display_data"
    },
    {
     "data": {
      "application/vnd.jupyter.widget-view+json": {
       "model_id": "71e346829b764ed3b15ba62db73cf7ca",
       "version_major": 2,
       "version_minor": 0
      },
      "text/plain": [
       "Loading checkpoint shards:   0%|          | 0/2 [00:00<?, ?it/s]"
      ]
     },
     "metadata": {},
     "output_type": "display_data"
    },
    {
     "name": "stdout",
     "output_type": "stream",
     "text": [
      "CPU times: user 1min 28s, sys: 20.4 s, total: 1min 48s\n",
      "Wall time: 3.44 s\n"
     ]
    }
   ],
   "source": [
    "%%time\n",
    "model_name_or_path = \"mistralai/Mistral-7B-Instruct-v0.1\"\n",
    "llm = HuggingFaceLLM(\n",
    "  context_window=4096,\n",
    "  max_new_tokens=30,\n",
    "  generate_kwargs={'temperature': 0.2, 'do_sample': True, 'top_p': 0.95, 'top_k': 40, 'repetition_penalty': 1.1},\n",
    "  query_wrapper_prompt=query_wrapper_prompt,\n",
    "  tokenizer_name=model_name_or_path,\n",
    "  model_name=model_name_or_path,\n",
    "  device_map='auto',\n",
    "  model_kwargs={'torch_dtype': torch.float16},\n",
    ")\n"
   ]
  },
  {
   "cell_type": "code",
   "execution_count": 9,
   "id": "b91dafc6-8009-4731-a492-65cdfa252aeb",
   "metadata": {
    "tags": []
   },
   "outputs": [],
   "source": [
    "# embedding\n",
    "# embed_model = HuggingFaceEmbedding(model_name='BAAI/bge-large-en-v1.5')\n",
    "embed_model = HuggingFaceEmbedding(model_name='exp_finetune')\n",
    "\n",
    "service_context = ServiceContext.from_defaults(\n",
    "  chunk_size=1024,\n",
    "  chunk_overlap=256,\n",
    "  llm=llm,\n",
    "  embed_model=embed_model,\n",
    ")"
   ]
  },
  {
   "cell_type": "code",
   "execution_count": 10,
   "id": "2c422d52-e188-49a4-b0a1-c84cac3b95a1",
   "metadata": {
    "tags": []
   },
   "outputs": [
    {
     "name": "stdout",
     "output_type": "stream",
     "text": [
      "CPU times: user 574 µs, sys: 0 ns, total: 574 µs\n",
      "Wall time: 581 µs\n"
     ]
    }
   ],
   "source": [
    "%%time\n",
    "# index = VectorStoreIndex.from_documents(docs, storage_context=storage_context,\n",
    "# service_context=service_context)\n",
    "index = VectorStoreIndex.from_vector_store(vector_store, service_context=service_context)"
   ]
  },
  {
   "cell_type": "code",
   "execution_count": 11,
   "id": "5d06fcbf-ac1c-428c-a0d7-7a14c9b485e6",
   "metadata": {
    "tags": []
   },
   "outputs": [],
   "source": [
    "query_engine = index.as_query_engine()"
   ]
  },
  {
   "cell_type": "code",
   "execution_count": 12,
   "id": "7f71c8d3-4feb-4638-9379-9d6207856fb3",
   "metadata": {
    "scrolled": true
   },
   "outputs": [],
   "source": [
    "DATA_PATH = \"/home/75y/data_ragMimic/data/\"\n",
    "VAL_DATASET_FPATH = DATA_PATH+'val_dataset.json'\n",
    "with open(VAL_DATASET_FPATH, 'r+') as f:\n",
    "    val_dataset = json.load(f)\n",
    "\n",
    "corpus = val_dataset['corpus']\n",
    "queries = val_dataset['queries']\n",
    "relevant_docs = val_dataset['relevant_docs']\n"
   ]
  },
  {
   "cell_type": "code",
   "execution_count": 13,
   "id": "52e220b9-9694-496d-b7ca-43dc150cc952",
   "metadata": {
    "tags": []
   },
   "outputs": [
    {
     "name": "stdout",
     "output_type": "stream",
     "text": [
      "Question:\n",
      "What is the patient's name?\n",
      "----------------------------------------------------------------------------------------------------\n",
      "Context:\n",
      "- the patient was given:  \n",
      " azithro 500mg  \n",
      " 500cc normal saline (for brief period of relative hypotension  with sbp ___  \n",
      " vitals prior to transfer were:  \n",
      " 64 105/61 20 99% ra  \n",
      " upon arrival to the floor, patient endorses no complaints.  \n",
      "\n",
      " \n",
      "past medical history:  sjogren's syndrome  \n",
      " osteoarthritis  \n",
      " hearing loss - sensorineural, unspec  \n",
      " cancer - breast s/p partial mastectomy  \n",
      " hypercholesterolemia  \n",
      " spinal stenosis - lumbar  \n",
      " pulmonary embolism  \n",
      " dvts (bilateral), postphlebitic syndrome  \n",
      " history total knee replacement  \n",
      " hypertension - essential, unspec  \n",
      " diastolic heart failure  \n",
      " ckd stage iii  \n",
      " \n",
      "social history: ___\n",
      "family history: no family history of kidney or heart disease. patient's brother  with diabetes.\n",
      " \n",
      "physical exam: admission physical exam: ======================== \n",
      " vitals - 97.2 129/49 62 18 100ra  \n",
      " wt 80.3  \n",
      " general - pleasant, well-appearing, in no apparent distress  \n",
      " heent - normocephalic, atraumatic, no conjunctival pallor or  scleral icterus, perrla, eomi, op clear  \n",
      " neck - supple, no lad, no thyromegaly  \n",
      " cardiac - regular rate & rhythm, normal s1/s2, no murmurs rubs  or gallops  \n",
      " pulmonary - clear to auscultation bilaterally, without wheezes  or rhonchi  \n",
      " abdomen - normal bowel sounds, soft, non-tender, non-distended, no organomegaly  \n",
      " extremities - warm, well-perfused, bilateral tense lower  extremities with 1+ edema and evidence of venous stasis.  \n",
      " skin - without rash  \n",
      " neurologic - does not answer any orientation questions: \"i  don't want to tell you my name.\" not far from baseline per  daughter. ___ assessment deferred  \n",
      " psychiatric - listen & responds to questions appropriately, pleasant  \n",
      "\n",
      "discharge physical exam: ========================\n",
      "vitals - 98.9, 94/47, 59, 16, 98% on ra  \n",
      "general - pleasant, well-appearing, in no apparent distress  \n",
      "heent - nc, at, no conjunctival pallor or scleral icterus, perrla, eomi, op clear  \n",
      "neck - supple, no lad, no thyromegaly  \n",
      "cardiac - regular rate & rhythm, normal s1/s2, no murmurs rubs  or gallops  \n",
      "pulmonary - ctab, without wheezes or rhonchi  \n",
      "abdomen - +bs, soft, nt, nd, no organomegaly  \n",
      "extremities - wwp, bilateral tense lower extremities with 1+  edema and evidence of venous stasis  \n",
      "skin - without rash  \n",
      "neurologic - does not answer any orientation questions: \"i don't  want to tell you my name.\" not far from baseline per daughter.\n",
      "----------------------------------------------------------------------------------------------------\n",
      "Response:\n",
      "Empty Response\n"
     ]
    }
   ],
   "source": [
    "idx = np.random.randint(len(corpus))\n",
    "q,c = queries[list(queries.keys())[idx]],corpus[relevant_docs[list(queries.keys())[idx]][0]]\n",
    "r = query_engine.query(q)\n",
    "\n",
    "print(f\"Question:\\n{q}\")\n",
    "print(\"-\"*100)\n",
    "print(f\"Context:\\n{c}\")\n",
    "print(\"-\"*100)\n",
    "print(f\"Response:\\n{r}\")"
   ]
  },
  {
   "cell_type": "code",
   "execution_count": null,
   "id": "cf8c2f4b-7da1-4091-8283-55c6e74cf9be",
   "metadata": {},
   "outputs": [],
   "source": []
  }
 ],
 "metadata": {
  "kernelspec": {
   "display_name": "Python 3 (ipykernel)",
   "language": "python",
   "name": "python3"
  },
  "language_info": {
   "codemirror_mode": {
    "name": "ipython",
    "version": 3
   },
   "file_extension": ".py",
   "mimetype": "text/x-python",
   "name": "python",
   "nbconvert_exporter": "python",
   "pygments_lexer": "ipython3",
   "version": "3.10.12"
  }
 },
 "nbformat": 4,
 "nbformat_minor": 5
}
